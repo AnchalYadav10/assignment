{
 "cells": [
  {
   "cell_type": "code",
   "execution_count": 2,
   "id": "8b3e5faa-9761-4af0-b66a-346ff5ef4fc4",
   "metadata": {},
   "outputs": [
    {
     "name": "stdin",
     "output_type": "stream",
     "text": [
      "Enter Percentage obtained =  55\n"
     ]
    },
    {
     "name": "stdout",
     "output_type": "stream",
     "text": [
      "D grade\n"
     ]
    }
   ],
   "source": [
    "#Q.1\n",
    "n=int(input('Enter Percentage obtained = '))\n",
    "if n>90 :\n",
    "    print('A grade')\n",
    "elif n>80 and n<=90:\n",
    "    print('B grade')\n",
    "elif n>=60 and n<=80:\n",
    "    print('C grade')\n",
    "else:\n",
    "    print('D grade')"
   ]
  },
  {
   "cell_type": "code",
   "execution_count": 5,
   "id": "16847b81-26d7-4715-84df-b041b89e04db",
   "metadata": {},
   "outputs": [
    {
     "name": "stdin",
     "output_type": "stream",
     "text": [
      "Enter cost price =  80000\n"
     ]
    },
    {
     "name": "stdout",
     "output_type": "stream",
     "text": [
      "tax = 10%\n"
     ]
    }
   ],
   "source": [
    "#Q.2\n",
    "n=int(input('Enter cost price = '))\n",
    "if n>100000 :\n",
    "    print('tax = 15%')\n",
    "elif n>50000 and n<=100000:\n",
    "    print('tax = 10%')\n",
    "else:\n",
    "    print('tax = 5%')"
   ]
  },
  {
   "cell_type": "code",
   "execution_count": null,
   "id": "f6516304-d899-4736-a719-da326769f471",
   "metadata": {},
   "outputs": [],
   "source": [
    "#Q.3\n",
    "n=input('Enter city name = ')\n",
    "a=int(len(n))\n",
    "if a == 5:\n",
    "    print('Red Fort')\n",
    "elif a == 4:\n",
    "    print('Taj Mahal')\n",
    "else:\n",
    "    print('Jaipur')\n"
   ]
  },
  {
   "cell_type": "code",
   "execution_count": 1,
   "id": "1e2056ec-bcf6-41e1-b4a8-f5fdee4952a6",
   "metadata": {},
   "outputs": [
    {
     "name": "stdin",
     "output_type": "stream",
     "text": [
      "enter the number =  19683\n"
     ]
    },
    {
     "data": {
      "text/plain": [
       "6"
      ]
     },
     "execution_count": 1,
     "metadata": {},
     "output_type": "execute_result"
    }
   ],
   "source": [
    "#Q.4\n",
    "l1=[]\n",
    "i=int(input('enter the number = '))\n",
    "while i>0:\n",
    "    i=i//3\n",
    "    if i<=10:\n",
    "        break\n",
    "    l1.append(i)\n",
    "len(l1)"
   ]
  },
  {
   "cell_type": "code",
   "execution_count": 1,
   "id": "8c8f3c7e-b4d5-4d7a-90ac-1399b809d452",
   "metadata": {},
   "outputs": [
    {
     "data": {
      "text/plain": [
       "\"while loop is used to run a specific block of code to run unknown number of times untill the condition is met.\\n for ex. if we want to ask a number betweeen 1 and 10, we don't know how many times user may enter a larger number, \\n so we keep asking while the number is not between '1 and 10'.\""
      ]
     },
     "execution_count": 1,
     "metadata": {},
     "output_type": "execute_result"
    }
   ],
   "source": [
    "#Q.5\n",
    "'''while loop is used to run a specific block of code to run unknown number of times untill the condition is met.\n",
    " for ex. if we want to ask a number betweeen 1 and 10, we don't know how many times user may enter a larger number, \n",
    " so we keep asking while the number is not between '1 and 10'.'''"
   ]
  },
  {
   "cell_type": "code",
   "execution_count": 1,
   "id": "a7e07783-c8c0-421c-bcec-4e3e4a611feb",
   "metadata": {},
   "outputs": [
    {
     "name": "stdout",
     "output_type": "stream",
     "text": [
      "*\n",
      "**\n",
      "***\n",
      "****\n",
      "*****\n",
      "******\n",
      "*******\n",
      "********\n",
      "*********\n",
      "**********\n"
     ]
    }
   ],
   "source": [
    "#Q.6\n",
    "i=1\n",
    "while i<=10:\n",
    "    print(i*'*')\n",
    "    i=i+1"
   ]
  },
  {
   "cell_type": "code",
   "execution_count": 10,
   "id": "fd433a14-ea69-4bf9-a0e0-63c1eaf57822",
   "metadata": {},
   "outputs": [
    {
     "name": "stdout",
     "output_type": "stream",
     "text": [
      "*\n",
      "**\n",
      "***\n",
      "****\n",
      "*****\n",
      "****\n",
      "***\n",
      "**\n",
      "*\n"
     ]
    }
   ],
   "source": [
    "i=1\n",
    "while i in range(5):\n",
    "    print(i*'*')\n",
    "    i=i+1\n",
    "while i>0:\n",
    "    print(i*'*')\n",
    "    i=i-1"
   ]
  },
  {
   "cell_type": "code",
   "execution_count": 7,
   "id": "c0ea0e8b-6022-4016-8b8e-30c47f519192",
   "metadata": {},
   "outputs": [
    {
     "name": "stdin",
     "output_type": "stream",
     "text": [
      "Enter the number of rows you want to draw:  10\n"
     ]
    },
    {
     "name": "stdout",
     "output_type": "stream",
     "text": [
      " * * * * * * * * * * \n",
      "  * * * * * * * * * \n",
      "   * * * * * * * * \n",
      "    * * * * * * * \n",
      "     * * * * * * \n",
      "      * * * * * \n",
      "       * * * * \n",
      "        * * * \n",
      "         * * \n",
      "          * \n"
     ]
    }
   ],
   "source": [
    "n=int(input('Enter the number of rows you want to draw: '))\n",
    "i=1\n",
    "while n>0:\n",
    "    j=1\n",
    "    while j<=i:\n",
    "        print(end=' ')\n",
    "        j=j+1\n",
    "    k=1\n",
    "    while k<=n:\n",
    "        print('*',end=' ')\n",
    "        k=k+1\n",
    "    print(\"\")\n",
    "    n=n-1\n",
    "    i=i+1"
   ]
  },
  {
   "cell_type": "code",
   "execution_count": 19,
   "id": "ccf9d626-d7a4-4700-b4b6-4f7020b25cf3",
   "metadata": {},
   "outputs": [
    {
     "name": "stdout",
     "output_type": "stream",
     "text": [
      "10 9 8 7 6 5 4 3 2 1 "
     ]
    }
   ],
   "source": [
    "#Q.7\n",
    "i=10\n",
    "while i>0:\n",
    "    print(i,end=\" \")\n",
    "    i=i-1"
   ]
  },
  {
   "cell_type": "code",
   "execution_count": 20,
   "id": "8768fc5b-a266-416d-a2c2-5c68294a3d8a",
   "metadata": {},
   "outputs": [
    {
     "name": "stdout",
     "output_type": "stream",
     "text": [
      "10 9 8 7 6 5 4 3 2 1 "
     ]
    }
   ],
   "source": [
    "#Q.8\n",
    "i=10\n",
    "while i>0:\n",
    "    print(i,end=\" \")\n",
    "    i=i-1"
   ]
  },
  {
   "cell_type": "code",
   "execution_count": null,
   "id": "3ac2a803-8547-43f0-a02c-7f4f4a7c12d2",
   "metadata": {},
   "outputs": [],
   "source": []
  }
 ],
 "metadata": {
  "kernelspec": {
   "display_name": "Python 3 (ipykernel)",
   "language": "python",
   "name": "python3"
  },
  "language_info": {
   "codemirror_mode": {
    "name": "ipython",
    "version": 3
   },
   "file_extension": ".py",
   "mimetype": "text/x-python",
   "name": "python",
   "nbconvert_exporter": "python",
   "pygments_lexer": "ipython3",
   "version": "3.10.8"
  }
 },
 "nbformat": 4,
 "nbformat_minor": 5
}
